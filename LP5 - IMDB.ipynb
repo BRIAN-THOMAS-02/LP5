{
 "cells": [
  {
   "cell_type": "markdown",
   "id": "54e9748c",
   "metadata": {},
   "source": [
    "# Classifying movie reviews: a binary classification example"
   ]
  },
  {
   "cell_type": "markdown",
   "id": "44b85863",
   "metadata": {},
   "source": [
    "#### Design a neural network to perform two-class classification or binary classification , of reviews form IMDB movie reviews dataset, to determine wether the reviews are positive or negative. We will use the Python library Keras to perform the classification"
   ]
  },
  {
   "cell_type": "markdown",
   "id": "5e5988b4",
   "metadata": {},
   "source": [
    "## The IMDB Dataset"
   ]
  },
  {
   "cell_type": "markdown",
   "id": "5538e85c",
   "metadata": {},
   "source": [
    "The IMDB dataset is a set of 50,000 highly polarized reviews from the Internet Movie Database. They are split into 25000\n",
    "reviews each for training and testing. Each set contains equal number (50%) of positive and negative reviews.\n",
    "The IMDB dataset comes packaged with Keras. It consists of reviews and their corresponding labels (0 for negative and 1\n",
    "for positive review). The reviews are a sequence of words. They come preprocessed as sequence of integers, where each\n",
    "integer stands for a specific word in the dictionary.\n",
    "The IMDB datset can be loaded directly from Keras and will usually download about 80 MB on your machine."
   ]
  },
  {
   "cell_type": "markdown",
   "id": "75ad95b0",
   "metadata": {},
   "source": [
    "## Import Packages"
   ]
  },
  {
   "cell_type": "code",
   "execution_count": 3,
   "id": "c617229d",
   "metadata": {},
   "outputs": [],
   "source": [
    "import numpy as np\n",
    "from keras.datasets import imdb\n",
    "from keras import models\n",
    "from keras import layers\n",
    "from keras import optimizers\n",
    "from keras import losses\n",
    "from keras import metrics\n",
    "import matplotlib.pyplot as plt\n",
    "%matplotlib inline"
   ]
  },
  {
   "cell_type": "markdown",
   "id": "e97fd976",
   "metadata": {},
   "source": [
    "## Loading the Data"
   ]
  },
  {
   "cell_type": "code",
   "execution_count": 6,
   "id": "eb413eaf",
   "metadata": {},
   "outputs": [],
   "source": [
    "# Load the data, keeping only 10,000 of the most frequently occuring words\n",
    "(train_data, train_labels), (test_data, test_labels) = imdb.load_data(num_words = 10000)"
   ]
  },
  {
   "cell_type": "code",
   "execution_count": 7,
   "id": "26edffc4",
   "metadata": {},
   "outputs": [
    {
     "data": {
      "text/plain": [
       "1"
      ]
     },
     "execution_count": 7,
     "metadata": {},
     "output_type": "execute_result"
    }
   ],
   "source": [
    "# Check the first label\n",
    "train_labels[0]"
   ]
  },
  {
   "cell_type": "code",
   "execution_count": 8,
   "id": "5a49d982",
   "metadata": {},
   "outputs": [
    {
     "name": "stdout",
     "output_type": "stream",
     "text": [
      "<class 'list'>\n"
     ]
    },
    {
     "data": {
      "text/plain": [
       "9999"
      ]
     },
     "execution_count": 8,
     "metadata": {},
     "output_type": "execute_result"
    }
   ],
   "source": [
    "# Since we restricted ourselves to the top 10000 frequent words, no word index should exceed\n",
    "# we'll verify this below\n",
    "\n",
    "# Here is a list of maximum indexes in every review --- we search the maximum index in this\n",
    "print(type([max(sequence) for sequence in train_data]))\n",
    "\n",
    "# Find the maximum of all max indexes\n",
    "max([max(sequence) for sequence in train_data])"
   ]
  },
  {
   "cell_type": "code",
   "execution_count": 9,
   "id": "215b2e57",
   "metadata": {},
   "outputs": [
    {
     "name": "stdout",
     "output_type": "stream",
     "text": [
      "Downloading data from https://storage.googleapis.com/tensorflow/tf-keras-datasets/imdb_word_index.json\n",
      "1641221/1641221 [==============================] - 0s 0us/step\n"
     ]
    },
    {
     "data": {
      "text/plain": [
       "\"? this film was just brilliant casting location scenery story direction everyone's really suited the part they played and you could just imagine being there robert ? is an amazing actor and now the same being director ? father came from the same scottish island as myself so i loved the fact there was a real connection with this film the witty remarks throughout the film were great it was just brilliant so much that i bought the film as soon as it was released for ? and would recommend it to everyone to watch and the fly fishing was amazing really cried at the end it was so sad and you know what they say if you cry at a film it must have been good and this definitely was also ? to the two little boy's that played the ? of norman and paul they were just brilliant children are often left out of the ? list i think because the stars that play them all grown up are such a big profile for the whole film but these children are amazing and should be praised for what they have done don't you think the whole story was so lovely because it was true and was someone's life after all that was shared with us all\""
      ]
     },
     "execution_count": 9,
     "metadata": {},
     "output_type": "execute_result"
    }
   ],
   "source": [
    "# Let's quickly decode a review\n",
    "\n",
    "# step 1: load the dictionary mappings from word to integer index\n",
    "word_index = imdb.get_word_index()\n",
    "\n",
    "# step 2: reverse word index to map integer indexes to their respective words\n",
    "reverse_word_index = dict([(value, key) for (key, value) in word_index.items()])\n",
    "\n",
    "# Step 3: decode the review, mapping integer indices to words\n",
    "## indices are off by 3 because 0, 1, and 2 are reserverd indices for \"padding\", \"Start of se \n",
    "decoded_review = ' '.join([reverse_word_index.get(i-3, '?') for i in train_data[0]])\n",
    "\n",
    "decoded_review"
   ]
  },
  {
   "cell_type": "code",
   "execution_count": 10,
   "id": "c58b9f28",
   "metadata": {},
   "outputs": [
    {
     "data": {
      "text/plain": [
       "88584"
      ]
     },
     "execution_count": 10,
     "metadata": {},
     "output_type": "execute_result"
    }
   ],
   "source": [
    "len(reverse_word_index)"
   ]
  },
  {
   "cell_type": "markdown",
   "id": "d269c237",
   "metadata": {},
   "source": [
    "## Preparing the data"
   ]
  },
  {
   "cell_type": "markdown",
   "id": "cbee9319",
   "metadata": {},
   "source": [
    "### Vectorize input data"
   ]
  },
  {
   "cell_type": "markdown",
   "id": "7e9addf9",
   "metadata": {},
   "source": [
    "We cannot feed list of integers into our deep neural network. We will need to convert them into tensors.\n",
    "\n",
    "To prepare our data we will One-hot Encode our lists and turn them into vectors of 0's and 1's. This would blow up all of our\n",
    "sequences into 10,000 dimensional vectors containing 1 at all indices corresponding to integers present in that sequence.\n",
    "This vector will have the element 0 at all indices which are not present in integer sequence.\n",
    "\n",
    "Simply put, the 10,000 dimensional vector corresponding to each review, will have\n",
    "\n",
    "Every index corresponding to a word\n",
    "Every index vith value 1, is a word which is present in the review and is denoted by its integer counterpart\n",
    "Every index containing 0, is a word not present in the review\n",
    "\n",
    "We will vectorize our data manually for maximum clarity. This will result in a tensors of shape (25000, 10000)."
   ]
  },
  {
   "cell_type": "code",
   "execution_count": 14,
   "id": "79606e08",
   "metadata": {},
   "outputs": [],
   "source": [
    "def vectorize_sequences(sequences, dimension=10000):\n",
    "    results = np.zeros((len(sequences), dimension)) # Creates an all zero matrix of shape\n",
    "    for i,sequence in enumerate(sequences):\n",
    "        results[i,sequence] = 1 # Sets specific indices of results[i]\n",
    "    return results\n",
    "\n",
    "# Vectorize training Data\n",
    "X_train = vectorize_sequences(train_data)\n",
    "\n",
    "# Vectorize testing Data\n",
    "X_test = vectorize_sequences(test_data)"
   ]
  },
  {
   "cell_type": "code",
   "execution_count": 15,
   "id": "325b7d37",
   "metadata": {},
   "outputs": [
    {
     "data": {
      "text/plain": [
       "array([0., 1., 1., ..., 0., 0., 0.])"
      ]
     },
     "execution_count": 15,
     "metadata": {},
     "output_type": "execute_result"
    }
   ],
   "source": [
    "X_train[0]"
   ]
  },
  {
   "cell_type": "code",
   "execution_count": 16,
   "id": "3e2dedc5",
   "metadata": {},
   "outputs": [
    {
     "data": {
      "text/plain": [
       "(25000, 10000)"
      ]
     },
     "execution_count": 16,
     "metadata": {},
     "output_type": "execute_result"
    }
   ],
   "source": [
    "X_train.shape"
   ]
  },
  {
   "cell_type": "markdown",
   "id": "2356ef68",
   "metadata": {},
   "source": [
    "## Vectorize labels"
   ]
  },
  {
   "cell_type": "code",
   "execution_count": 17,
   "id": "0f7b42b8",
   "metadata": {},
   "outputs": [],
   "source": [
    "y_train = np.asarray(train_labels).astype('float32')\n",
    "y_test = np.asarray(test_labels).astype('float32')"
   ]
  },
  {
   "cell_type": "code",
   "execution_count": null,
   "id": "f082eb35",
   "metadata": {},
   "outputs": [],
   "source": []
  },
  {
   "cell_type": "code",
   "execution_count": null,
   "id": "c8c32b89",
   "metadata": {},
   "outputs": [],
   "source": []
  },
  {
   "cell_type": "markdown",
   "id": "677e87b7",
   "metadata": {},
   "source": [
    "## Model defination"
   ]
  },
  {
   "cell_type": "code",
   "execution_count": 18,
   "id": "7d62ddf1",
   "metadata": {},
   "outputs": [],
   "source": [
    "model = models.Sequential()\n",
    "model.add(layers.Dense(16, activation='relu', input_shape=(10000,)))\n",
    "model.add(layers.Dense(16, activation='relu'))\n",
    "model.add(layers.Dense(1, activation='sigmoid'))"
   ]
  },
  {
   "cell_type": "markdown",
   "id": "2f6a0026",
   "metadata": {},
   "source": [
    "## Compiling the model"
   ]
  },
  {
   "cell_type": "markdown",
   "id": "8a12a4c6",
   "metadata": {},
   "source": [
    "In this step we will choose an optimizer, a loss function, and metrics to observe. We will go forward with\n",
    "\n",
    "binary_crossentropy loss function, commonlu used for Binary Classification\n",
    "rmsprop optimizer and\n",
    "accuracy as a measure of performance\n",
    "\n",
    "We can pass our choices for optimizer, loss function and metrics as strings to the compile function because rmsprop ,\n",
    "binary_crossentropy and accuracy come packaged with Keras.\n",
    "\n",
    "model.complie(\n",
    "    optimizer='rmsprop', <br>\n",
    "    loss = 'binary_crossentropy', <br>\n",
    "    metrics = ['accuracy'] <br>\n",
    ")\n",
    "\n",
    "One could use a customized loss function or ortimizer by passing the custom class instance as argument to the loss ,\n",
    "optimizer or mertics fields.\n",
    "\n",
    "In this example, we will implement our default choices, but, we will do so by passing class instances. This is exactly how we\n",
    "would do it, if we had customized parameters."
   ]
  },
  {
   "cell_type": "code",
   "execution_count": 20,
   "id": "44176c29",
   "metadata": {},
   "outputs": [],
   "source": [
    "model.compile(\n",
    "optimizer=optimizers.RMSprop(learning_rate=0.001),\n",
    "loss = losses.binary_crossentropy,\n",
    "metrics = [metrics.binary_accuracy]\n",
    ")"
   ]
  },
  {
   "cell_type": "markdown",
   "id": "ac14d43c",
   "metadata": {},
   "source": [
    "## Setting up Validation"
   ]
  },
  {
   "cell_type": "markdown",
   "id": "c401e4b6",
   "metadata": {},
   "source": [
    "We will set aside a part of our training data for validation of the accuracy of the model as it trains. A validation set enables\n",
    "us to monitor the progress of our model on previously unseen data as it goes throug epochs during training. <br>\n",
    "\n",
    "Validation steps help us fine tune the training parameters of the model.fit function so as to avoid overfitting and under\n",
    "fitting of data."
   ]
  },
  {
   "cell_type": "code",
   "execution_count": 21,
   "id": "009f5795",
   "metadata": {},
   "outputs": [],
   "source": [
    "# Input for Validation\n",
    "X_val = X_train[:10000]\n",
    "partial_X_train = X_train[10000:]\n",
    "\n",
    "# Labels for validation\n",
    "y_val = y_train[:10000]\n",
    "partial_y_train = y_train[10000:]"
   ]
  },
  {
   "cell_type": "markdown",
   "id": "f481d02e",
   "metadata": {},
   "source": [
    "## Training our model"
   ]
  },
  {
   "cell_type": "markdown",
   "id": "abdb70c3",
   "metadata": {},
   "source": [
    "Initially, we will train our models for 20 epochs in mini-batches of 512 samples. We will aslo pass our validation set to the\n",
    "fit method."
   ]
  },
  {
   "cell_type": "code",
   "execution_count": 22,
   "id": "552d77be",
   "metadata": {},
   "outputs": [
    {
     "name": "stdout",
     "output_type": "stream",
     "text": [
      "Epoch 1/20\n",
      "30/30 [==============================] - 4s 90ms/step - loss: 0.5744 - binary_accuracy: 0.7377 - val_loss: 0.4624 - val_binary_accuracy: 0.8329\n",
      "Epoch 2/20\n",
      "30/30 [==============================] - 1s 30ms/step - loss: 0.3720 - binary_accuracy: 0.8905 - val_loss: 0.3655 - val_binary_accuracy: 0.8579\n",
      "Epoch 3/20\n",
      "30/30 [==============================] - 2s 82ms/step - loss: 0.2602 - binary_accuracy: 0.9237 - val_loss: 0.3218 - val_binary_accuracy: 0.8731\n",
      "Epoch 4/20\n",
      "30/30 [==============================] - 1s 38ms/step - loss: 0.1995 - binary_accuracy: 0.9417 - val_loss: 0.2868 - val_binary_accuracy: 0.8873\n",
      "Epoch 5/20\n",
      "30/30 [==============================] - 1s 19ms/step - loss: 0.1580 - binary_accuracy: 0.9530 - val_loss: 0.2832 - val_binary_accuracy: 0.8889\n",
      "Epoch 6/20\n",
      "30/30 [==============================] - 1s 19ms/step - loss: 0.1282 - binary_accuracy: 0.9637 - val_loss: 0.2924 - val_binary_accuracy: 0.8862\n",
      "Epoch 7/20\n",
      "30/30 [==============================] - 1s 19ms/step - loss: 0.1040 - binary_accuracy: 0.9709 - val_loss: 0.3510 - val_binary_accuracy: 0.8692\n",
      "Epoch 8/20\n",
      "30/30 [==============================] - 1s 25ms/step - loss: 0.0850 - binary_accuracy: 0.9776 - val_loss: 0.3854 - val_binary_accuracy: 0.8700\n",
      "Epoch 9/20\n",
      "30/30 [==============================] - 1s 19ms/step - loss: 0.0692 - binary_accuracy: 0.9833 - val_loss: 0.3545 - val_binary_accuracy: 0.8809\n",
      "Epoch 10/20\n",
      "30/30 [==============================] - 1s 19ms/step - loss: 0.0556 - binary_accuracy: 0.9869 - val_loss: 0.4098 - val_binary_accuracy: 0.8759\n",
      "Epoch 11/20\n",
      "30/30 [==============================] - 1s 33ms/step - loss: 0.0406 - binary_accuracy: 0.9924 - val_loss: 0.4495 - val_binary_accuracy: 0.8716\n",
      "Epoch 12/20\n",
      "30/30 [==============================] - 1s 19ms/step - loss: 0.0352 - binary_accuracy: 0.9931 - val_loss: 0.4310 - val_binary_accuracy: 0.8749\n",
      "Epoch 13/20\n",
      "30/30 [==============================] - 1s 19ms/step - loss: 0.0279 - binary_accuracy: 0.9955 - val_loss: 0.4635 - val_binary_accuracy: 0.8735\n",
      "Epoch 14/20\n",
      "30/30 [==============================] - 1s 24ms/step - loss: 0.0210 - binary_accuracy: 0.9970 - val_loss: 0.4881 - val_binary_accuracy: 0.8737\n",
      "Epoch 15/20\n",
      "30/30 [==============================] - 1s 22ms/step - loss: 0.0143 - binary_accuracy: 0.9986 - val_loss: 0.5236 - val_binary_accuracy: 0.8667\n",
      "Epoch 16/20\n",
      "30/30 [==============================] - 1s 20ms/step - loss: 0.0134 - binary_accuracy: 0.9980 - val_loss: 0.5636 - val_binary_accuracy: 0.8710\n",
      "Epoch 17/20\n",
      "30/30 [==============================] - 1s 22ms/step - loss: 0.0071 - binary_accuracy: 0.9995 - val_loss: 0.6274 - val_binary_accuracy: 0.8704\n",
      "Epoch 18/20\n",
      "30/30 [==============================] - 1s 21ms/step - loss: 0.0108 - binary_accuracy: 0.9975 - val_loss: 0.6303 - val_binary_accuracy: 0.8680\n",
      "Epoch 19/20\n",
      "30/30 [==============================] - 1s 25ms/step - loss: 0.0042 - binary_accuracy: 0.9997 - val_loss: 0.6664 - val_binary_accuracy: 0.8680\n",
      "Epoch 20/20\n",
      "30/30 [==============================] - 1s 25ms/step - loss: 0.0071 - binary_accuracy: 0.9988 - val_loss: 0.6962 - val_binary_accuracy: 0.8693\n"
     ]
    }
   ],
   "source": [
    "history = model.fit(\n",
    "    partial_X_train,\n",
    "    partial_y_train,\n",
    "    epochs=20,\n",
    "    batch_size=512,\n",
    "    validation_data=(X_val, y_val)\n",
    ")"
   ]
  },
  {
   "cell_type": "code",
   "execution_count": null,
   "id": "53f4f500",
   "metadata": {},
   "outputs": [],
   "source": []
  },
  {
   "cell_type": "code",
   "execution_count": 23,
   "id": "2c19da4f",
   "metadata": {},
   "outputs": [
    {
     "data": {
      "text/plain": [
       "dict_keys(['loss', 'binary_accuracy', 'val_loss', 'val_binary_accuracy'])"
      ]
     },
     "execution_count": 23,
     "metadata": {},
     "output_type": "execute_result"
    }
   ],
   "source": [
    "history_dict = history.history\n",
    "history_dict.keys()"
   ]
  },
  {
   "cell_type": "markdown",
   "id": "7f807825",
   "metadata": {},
   "source": [
    "history_dict contains values of\n",
    "<li> Training loss <br>\n",
    "<li> Trainining Accuracy <br>\n",
    "<li> Validation Loss <br>\n",
    "<li> Validation Accuracy <br>\n",
    "\n",
    "at the end of each epoch. <br>\n",
    "\n",
    "Let's use Matplotlib to plot Training and validation losses and Traing and Validation Accuracy side by side."
   ]
  },
  {
   "cell_type": "code",
   "execution_count": 24,
   "id": "b71f25a8",
   "metadata": {},
   "outputs": [
    {
     "data": {
      "image/png": "[encoded data removed]",
      "text/plain": [
       "<Figure size 640x480 with 1 Axes>"
      ]
     },
     "metadata": {},
     "output_type": "display_data"
    }
   ],
   "source": [
    "#Plotting losses\n",
    "loss_values = history_dict['loss']\n",
    "val_loss_values = history_dict['val_loss']\n",
    "\n",
    "epochs = range(1, len(loss_values) + 1)\n",
    "\n",
    "plt.plot(epochs, loss_values, 'g', label=\"Training Loss\")\n",
    "plt.plot(epochs, val_loss_values, 'b', label=\"Validation Loss\")\n",
    "\n",
    "plt.title('Training and Validation Loss')\n",
    "plt.xlabel('Epochs')\n",
    "plt.ylabel('Loss Value')\n",
    "plt.legend()\n",
    "\n",
    "plt.show()"
   ]
  },
  {
   "cell_type": "code",
   "execution_count": 25,
   "id": "60db2765",
   "metadata": {},
   "outputs": [
    {
     "data": {
      "image/png": "[encoded data removed]",
      "text/plain": [
       "<Figure size 640x480 with 1 Axes>"
      ]
     },
     "metadata": {},
     "output_type": "display_data"
    }
   ],
   "source": [
    "# Training and Validation Accuracy\n",
    "acc_values = history_dict['binary_accuracy']\n",
    "val_acc_values = history_dict['val_binary_accuracy']\n",
    "\n",
    "epochs = range(1, len(loss_values) + 1)\n",
    "\n",
    "plt.plot(epochs, acc_values, 'g', label=\"Training Accuracy\")\n",
    "plt.plot(epochs, val_acc_values, 'b', label=\"Validation Accuracy\")\n",
    "\n",
    "plt.title('Training and Validation Accuraccy')\n",
    "plt.xlabel('Epochs')\n",
    "plt.ylabel('Accuracy')\n",
    "plt.legend()\n",
    "\n",
    "plt.show()"
   ]
  },
  {
   "cell_type": "markdown",
   "id": "45cecc0b",
   "metadata": {},
   "source": [
    "We observe that minimum validation loss and maximum validation Accuracy is achived at around 3-5 epochs. After that we\n",
    "observe 2 trends: <br>\n",
    "\n",
    "<li> increase in validation loss and decrese in training loss <br>\n",
    "<li> decrease in validation accuracy and increase in training accuracy <br>\n",
    "\n",
    "This implies that the model is getting better at classifying the sentiment of the training data, but making consistently worse\n",
    "predictions when it encounters new, previously unseed data. This is the hallmark of Overfitting. After the 5th epoch the\n",
    "model begins to fit too closely to the trainning data. <br>\n",
    "\n",
    "To address overfitting, we will reduce the number of epochs to somewhere between 3 and 5. These results may vary\n",
    "depending on your machine and due to the very nature of the random assignment of weights that may vary from model to\n",
    "mode. <br>\n",
    "\n",
    "In our case we will stop training after 3 epochs."
   ]
  },
  {
   "cell_type": "markdown",
   "id": "0b1023d9",
   "metadata": {},
   "source": [
    "## Retraining our Model"
   ]
  },
  {
   "cell_type": "code",
   "execution_count": 26,
   "id": "127649d3",
   "metadata": {},
   "outputs": [
    {
     "name": "stdout",
     "output_type": "stream",
     "text": [
      "Epoch 1/3\n",
      "30/30 [==============================] - 4s 139ms/step - loss: 0.0024 - binary_accuracy: 0.9997 - val_loss: 0.7299 - val_binary_accuracy: 0.8675\n",
      "Epoch 2/3\n",
      "30/30 [==============================] - 1s 25ms/step - loss: 0.0034 - binary_accuracy: 0.9994 - val_loss: 0.7933 - val_binary_accuracy: 0.8658\n",
      "Epoch 3/3\n",
      "30/30 [==============================] - 1s 22ms/step - loss: 0.0014 - binary_accuracy: 0.9999 - val_loss: 0.7943 - val_binary_accuracy: 0.8651\n"
     ]
    },
    {
     "data": {
      "text/plain": [
       "<keras.callbacks.History at 0x19983aeebe0>"
      ]
     },
     "execution_count": 26,
     "metadata": {},
     "output_type": "execute_result"
    }
   ],
   "source": [
    "model.fit(\n",
    " partial_X_train,\n",
    " partial_y_train,\n",
    " epochs=3,\n",
    " batch_size=512,\n",
    " validation_data=(X_val, y_val)\n",
    ")"
   ]
  },
  {
   "cell_type": "markdown",
   "id": "d6d814d3",
   "metadata": {},
   "source": [
    "## Model Evaluation"
   ]
  },
  {
   "cell_type": "code",
   "execution_count": 28,
   "id": "beb32775",
   "metadata": {},
   "outputs": [
    {
     "name": "stdout",
     "output_type": "stream",
     "text": [
      "782/782 [==============================] - 3s 3ms/step\n"
     ]
    }
   ],
   "source": [
    "# Making Predictions for testing data\n",
    "np.set_printoptions(suppress=True)\n",
    "result = model.predict(X_test)"
   ]
  },
  {
   "cell_type": "code",
   "execution_count": 29,
   "id": "970d02c8",
   "metadata": {},
   "outputs": [
    {
     "data": {
      "text/plain": [
       "array([[0.0068353 ],\n",
       "       [1.        ],\n",
       "       [0.99993306],\n",
       "       ...,\n",
       "       [0.00336606],\n",
       "       [0.01363493],\n",
       "       [0.575245  ]], dtype=float32)"
      ]
     },
     "execution_count": 29,
     "metadata": {},
     "output_type": "execute_result"
    }
   ],
   "source": [
    "result"
   ]
  },
  {
   "cell_type": "code",
   "execution_count": 32,
   "id": "bff069ba",
   "metadata": {},
   "outputs": [],
   "source": [
    "y_pred = np.zeros(len(result))\n",
    "\n",
    "for i, score in enumerate(result):\n",
    "    y_pred[i] = np.round(score)"
   ]
  },
  {
   "cell_type": "code",
   "execution_count": 33,
   "id": "2c8dc965",
   "metadata": {},
   "outputs": [
    {
     "data": {
      "text/plain": [
       "<tf.Tensor: shape=(), dtype=float32, numpy=0.14944>"
      ]
     },
     "execution_count": 33,
     "metadata": {},
     "output_type": "execute_result"
    }
   ],
   "source": [
    "mae = metrics.mean_absolute_error(y_pred, y_test)\n",
    "mae"
   ]
  },
  {
   "cell_type": "code",
   "execution_count": null,
   "id": "f30d524d",
   "metadata": {},
   "outputs": [],
   "source": []
  }
 ],
 "metadata": {
  "kernelspec": {
   "display_name": "Python 3 (ipykernel)",
   "language": "python",
   "name": "python3"
  },
  "language_info": {
   "codemirror_mode": {
    "name": "ipython",
    "version": 3
   },
   "file_extension": ".py",
   "mimetype": "text/x-python",
   "name": "python",
   "nbconvert_exporter": "python",
   "pygments_lexer": "ipython3",
   "version": "3.9.13"
  }
 },
 "nbformat": 4,
 "nbformat_minor": 5
}
